{
 "cells": [
  {
   "cell_type": "code",
   "execution_count": null,
   "metadata": {},
   "outputs": [],
   "source": [
    "import re\n",
    "import tabula\n",
    "import requests\n",
    "import json\n",
    "import csv\n",
    "import boto3\n",
    "import pandas as pd\n",
    "import numpy as np\n",
    "from data_extraction import DataExtractor as de\n",
    "from database_utils import DatabaseConnector as dc\n",
    "from datetime import datetime as dt\n",
    "\n",
    "extr = de()\n",
    "conn = dc()"
   ]
  },
  {
   "cell_type": "code",
   "execution_count": null,
   "metadata": {},
   "outputs": [],
   "source": [
    "df = extr.read_rds_table(conn, conn.list_db_tables()[1])\n",
    "df = df.replace({'NULL': np.nan})\n",
    "df.dropna(how='all', subset=['email_address', 'address', 'phone_number'], inplace=True) # Drop people that we cannot contact\n",
    "df = df[~df['email_address'].str.contains('@') == False]\n",
    "df['country_code'] = df['country_code'].replace({'GGB':'GB'})\n",
    "df.reset_index(drop=True, inplace=True)\n",
    "for i in range(len(df)):\n",
    "    try:\n",
    "        df['date_of_birth'][i] = dt.strptime(df['date_of_birth'][i], '%B %Y %d').date()\n",
    "    except ValueError:\n",
    "        try:\n",
    "            df['date_of_birth'][i] = dt.strptime(df['date_of_birth'][i], '%Y/%m/%d').date()\n",
    "        except ValueError:\n",
    "            try:\n",
    "                df['date_of_birth'][i] = dt.strptime(df['date_of_birth'][i], '%Y %B %d').date()\n",
    "            except ValueError:\n",
    "                pass"
   ]
  },
  {
   "cell_type": "code",
   "execution_count": null,
   "metadata": {},
   "outputs": [],
   "source": [
    "dg = df[df.loc[:, 'country_code'] == 'GB']\n",
    "dg['phone_number'].replace(to_replace=')', value='', inplace=True)\n",
    "df.update(dg)\n",
    "display(dg)"
   ]
  }
 ],
 "metadata": {
  "language_info": {
   "name": "python"
  }
 },
 "nbformat": 4,
 "nbformat_minor": 2
}
