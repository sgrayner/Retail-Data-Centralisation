{
 "cells": [
  {
   "cell_type": "code",
   "execution_count": 1,
   "metadata": {},
   "outputs": [],
   "source": [
    "import re\n",
    "import tabula\n",
    "import requests\n",
    "import json\n",
    "import csv\n",
    "import boto3\n",
    "import pandas as pd\n",
    "import numpy as np\n",
    "from data_extraction import DataExtractor as de\n",
    "from database_utils import DatabaseConnector as dc\n",
    "from datetime import datetime as dt\n",
    "\n",
    "extr = de()\n",
    "conn = dc()"
   ]
  },
  {
   "cell_type": "code",
   "execution_count": 6,
   "metadata": {},
   "outputs": [
    {
     "name": "stderr",
     "output_type": "stream",
     "text": [
      "C:\\Users\\srayn\\AppData\\Local\\Temp\\ipykernel_5028\\4032240571.py:10: UserWarning: This pattern is interpreted as a regular expression, and has match groups. To actually get the groups, use str.extract.\n",
      "  grams = df[df.loc[:, 'weight'].str.contains('([^k][g])|[ml]') == True]\n",
      "C:\\Users\\srayn\\AppData\\Local\\Temp\\ipykernel_5028\\4032240571.py:11: SettingWithCopyWarning: \n",
      "A value is trying to be set on a copy of a slice from a DataFrame.\n",
      "Try using .loc[row_indexer,col_indexer] = value instead\n",
      "\n",
      "See the caveats in the documentation: https://pandas.pydata.org/pandas-docs/stable/user_guide/indexing.html#returning-a-view-versus-a-copy\n",
      "  grams.loc[:, 'weight'] = grams.loc[:, 'weight'].str.removesuffix('g')\n",
      "C:\\Users\\srayn\\AppData\\Local\\Temp\\ipykernel_5028\\4032240571.py:12: SettingWithCopyWarning: \n",
      "A value is trying to be set on a copy of a slice from a DataFrame.\n",
      "Try using .loc[row_indexer,col_indexer] = value instead\n",
      "\n",
      "See the caveats in the documentation: https://pandas.pydata.org/pandas-docs/stable/user_guide/indexing.html#returning-a-view-versus-a-copy\n",
      "  grams.loc[:, 'weight'] = grams.loc[:, 'weight'].str.removesuffix('g .')\n",
      "C:\\Users\\srayn\\AppData\\Local\\Temp\\ipykernel_5028\\4032240571.py:13: SettingWithCopyWarning: \n",
      "A value is trying to be set on a copy of a slice from a DataFrame.\n",
      "Try using .loc[row_indexer,col_indexer] = value instead\n",
      "\n",
      "See the caveats in the documentation: https://pandas.pydata.org/pandas-docs/stable/user_guide/indexing.html#returning-a-view-versus-a-copy\n",
      "  grams.loc[:, 'weight'] = grams.loc[:, 'weight'].str.removesuffix('ml')\n",
      "C:\\Users\\srayn\\AppData\\Local\\Temp\\ipykernel_5028\\4032240571.py:14: SettingWithCopyWarning: \n",
      "A value is trying to be set on a copy of a slice from a DataFrame.\n",
      "Try using .loc[row_indexer,col_indexer] = value instead\n",
      "\n",
      "See the caveats in the documentation: https://pandas.pydata.org/pandas-docs/stable/user_guide/indexing.html#returning-a-view-versus-a-copy\n",
      "  grams.loc[:, 'weight'] = pd.to_numeric(grams.loc[:, 'weight']) / 1000\n",
      "C:\\Users\\srayn\\AppData\\Local\\Temp\\ipykernel_5028\\4032240571.py:14: DeprecationWarning: In a future version, `df.iloc[:, i] = newvals` will attempt to set the values inplace instead of always setting a new array. To retain the old behavior, use either `df[df.columns[i]] = newvals` or, if columns are non-unique, `df.isetitem(i, newvals)`\n",
      "  grams.loc[:, 'weight'] = pd.to_numeric(grams.loc[:, 'weight']) / 1000\n",
      "C:\\Users\\srayn\\AppData\\Local\\Temp\\ipykernel_5028\\4032240571.py:18: SettingWithCopyWarning: \n",
      "A value is trying to be set on a copy of a slice from a DataFrame.\n",
      "Try using .loc[row_indexer,col_indexer] = value instead\n",
      "\n",
      "See the caveats in the documentation: https://pandas.pydata.org/pandas-docs/stable/user_guide/indexing.html#returning-a-view-versus-a-copy\n",
      "  ounces.loc[:, 'weight'] = ounces.loc[:, 'weight'].str.removesuffix('oz')\n",
      "C:\\Users\\srayn\\AppData\\Local\\Temp\\ipykernel_5028\\4032240571.py:19: SettingWithCopyWarning: \n",
      "A value is trying to be set on a copy of a slice from a DataFrame.\n",
      "Try using .loc[row_indexer,col_indexer] = value instead\n",
      "\n",
      "See the caveats in the documentation: https://pandas.pydata.org/pandas-docs/stable/user_guide/indexing.html#returning-a-view-versus-a-copy\n",
      "  ounces.loc[:, 'weight'] = round(ounces.loc[:, 'weight'].astype(float) / 35.274, 2)\n",
      "C:\\Users\\srayn\\AppData\\Local\\Temp\\ipykernel_5028\\4032240571.py:19: DeprecationWarning: In a future version, `df.iloc[:, i] = newvals` will attempt to set the values inplace instead of always setting a new array. To retain the old behavior, use either `df[df.columns[i]] = newvals` or, if columns are non-unique, `df.isetitem(i, newvals)`\n",
      "  ounces.loc[:, 'weight'] = round(ounces.loc[:, 'weight'].astype(float) / 35.274, 2)\n"
     ]
    }
   ],
   "source": [
    "extr = de()\n",
    "conn = dc()\n",
    "df = extr.retrieve_product_data()\n",
    "df['weight_check'] = df['weight'].str.contains('x')\n",
    "dg = df['weight'][df['weight_check'] == True].str.replace('[xg]', '', regex=True).str.split(expand=True)\n",
    "dg['weight'] = dg[0].astype(int) * dg[1].astype(int)\n",
    "dg['weight'] = dg['weight'].astype(str) + 'g'\n",
    "df.update(dg)\n",
    "df = df.drop(['weight_check'], axis=1)\n",
    "grams = df[df.loc[:, 'weight'].str.contains('([^k][g])|[ml]') == True]\n",
    "grams.loc[:, 'weight'] = grams.loc[:, 'weight'].str.removesuffix('g')\n",
    "grams.loc[:, 'weight'] = grams.loc[:, 'weight'].str.removesuffix('g .')\n",
    "grams.loc[:, 'weight'] = grams.loc[:, 'weight'].str.removesuffix('ml')\n",
    "grams.loc[:, 'weight'] = pd.to_numeric(grams.loc[:, 'weight']) / 1000\n",
    "#print(grams.loc[2, 'weight'], type(grams.loc[2, 'weight']))\n",
    "df.update(grams)\n",
    "ounces = df[df.loc[:, 'weight'].str.contains('oz') == True]\n",
    "ounces.loc[:, 'weight'] = ounces.loc[:, 'weight'].str.removesuffix('oz')\n",
    "ounces.loc[:, 'weight'] = round(ounces.loc[:, 'weight'].astype(float) / 35.274, 2)\n",
    "df.update(ounces)\n",
    "df.loc[:, 'weight'] = df.loc[:, 'weight'].str.removesuffix('kg')\n",
    "df.rename(columns={'weight': 'weight (kg)'}, inplace=True)"
   ]
  },
  {
   "cell_type": "code",
   "execution_count": 39,
   "metadata": {},
   "outputs": [],
   "source": [
    "df = df.drop('Unnamed: 0', axis=1)\n",
    "df = df[df['removed'].isin(['Still_avaliable', 'Removed']) == True]\n",
    "df.loc[:, 'product_price'] = df.loc[:, 'product_price'].str.replace('£', '')\n",
    "df.rename(columns={'product_price': 'product_price (£)'}, inplace=True)\n",
    "df['date_added'] = pd.to_datetime(df['date_added']).dt.date\n",
    "df['product_price (£)'] = df['product_price (£)'].astype(float)\n",
    "df['weight (kg)'] = df['weight (kg)'].astype(float)\n",
    "df.reset_index(drop=True, inplace=True)"
   ]
  },
  {
   "cell_type": "code",
   "execution_count": 10,
   "metadata": {},
   "outputs": [
    {
     "name": "stdout",
     "output_type": "stream",
     "text": [
      "<class 'pandas.core.frame.DataFrame'>\n",
      "RangeIndex: 1853 entries, 0 to 1852\n",
      "Data columns (total 10 columns):\n",
      " #   Column         Non-Null Count  Dtype  \n",
      "---  ------         --------------  -----  \n",
      " 0   Unnamed: 0     1853 non-null   float64\n",
      " 1   product_name   1849 non-null   object \n",
      " 2   product_price  1849 non-null   object \n",
      " 3   weight (kg)    957 non-null    object \n",
      " 4   category       1849 non-null   object \n",
      " 5   EAN            1849 non-null   object \n",
      " 6   date_added     1849 non-null   object \n",
      " 7   uuid           1849 non-null   object \n",
      " 8   removed        1849 non-null   object \n",
      " 9   product_code   1849 non-null   object \n",
      "dtypes: float64(1), object(9)\n",
      "memory usage: 144.9+ KB\n",
      "None\n"
     ]
    }
   ],
   "source": [
    "print(df.info())"
   ]
  }
 ],
 "metadata": {
  "kernelspec": {
   "display_name": "base",
   "language": "python",
   "name": "python3"
  },
  "language_info": {
   "codemirror_mode": {
    "name": "ipython",
    "version": 3
   },
   "file_extension": ".py",
   "mimetype": "text/x-python",
   "name": "python",
   "nbconvert_exporter": "python",
   "pygments_lexer": "ipython3",
   "version": "3.8.17"
  }
 },
 "nbformat": 4,
 "nbformat_minor": 2
}
